{
 "cells": [
  {
   "cell_type": "code",
   "execution_count": 1,
   "metadata": {},
   "outputs": [],
   "source": [
    "import sys\n",
    "sys.path.append('..')\n",
    "\n",
    "from lib.translate import DeTransalator\n",
    "from lib.utils import load_config"
   ]
  },
  {
   "cell_type": "code",
   "execution_count": 2,
   "metadata": {
    "pycharm": {
     "name": "#%%\n"
    }
   },
   "outputs": [],
   "source": [
    "CONFIG_FILE = '../config/model_config.yaml'\n",
    "SRC_VOCAB_FILE = '../de_vocab/vocab.txt'\n",
    "TGT_VOCAB_FILE = '../en_vocab/vocab.txt'\n",
    "MODEL_WEIGHTS_FILE = '../model.pt'\n",
    "\n",
    "MAX_LEN = 50\n",
    "DEVICE = 'cpu'\n",
    "\n",
    "model_config = load_config(CONFIG_FILE)\n",
    "model_config['device'] = DEVICE\n",
    "translator = DeTransalator(model_config, DEVICE, MAX_LEN, SRC_VOCAB_FILE, TGT_VOCAB_FILE, MODEL_WEIGHTS_FILE)"
   ]
  },
  {
   "cell_type": "code",
   "execution_count": 3,
   "metadata": {},
   "outputs": [
    {
     "name": "stdout",
     "output_type": "stream",
     "text": [
      "CPU times: user 896 ms, sys: 47.7 ms, total: 943 ms\n",
      "Wall time: 498 ms\n"
     ]
    },
    {
     "data": {
      "text/plain": [
       "'. man with sunglasses on rides a scooter.....................'"
      ]
     },
     "execution_count": 3,
     "metadata": {},
     "output_type": "execute_result"
    }
   ],
   "source": [
    "sentence = 'Ein Mann mit Sonnenbrille fährt auf einem Roller.'\n",
    "%time translation, attentions =  translator.predict(sentence)\n",
    "translation"
   ]
  },
  {
   "cell_type": "code",
   "execution_count": 4,
   "metadata": {},
   "outputs": [
    {
     "name": "stdout",
     "output_type": "stream",
     "text": [
      "CPU times: user 888 ms, sys: 42 ms, total: 930 ms\n",
      "Wall time: 484 ms\n"
     ]
    },
    {
     "data": {
      "text/plain": [
       "\". army 2 2 2 their backs to the viewer's court in their backs.................\""
      ]
     },
     "execution_count": 4,
     "metadata": {},
     "output_type": "execute_result"
    }
   ],
   "source": [
    "sentence = 'Die Erde rotiert prograd in Richtung Osten einmal um ihre Achse relativ zu den Fixsternen in 23 Stunden'\n",
    "sentence = sentence.lower()\n",
    "%time translation, attentions =  translator.predict(sentence)\n",
    "translation"
   ]
  },
  {
   "cell_type": "code",
   "execution_count": null,
   "metadata": {},
   "outputs": [],
   "source": []
  }
 ],
 "metadata": {
  "kernelspec": {
   "display_name": "Python 3",
   "language": "python",
   "name": "python3"
  },
  "language_info": {
   "codemirror_mode": {
    "name": "ipython",
    "version": 3
   },
   "file_extension": ".py",
   "mimetype": "text/x-python",
   "name": "python",
   "nbconvert_exporter": "python",
   "pygments_lexer": "ipython3",
   "version": "3.8.5"
  }
 },
 "nbformat": 4,
 "nbformat_minor": 1
}
