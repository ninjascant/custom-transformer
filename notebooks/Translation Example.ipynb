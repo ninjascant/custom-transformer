{
 "cells": [
  {
   "cell_type": "code",
   "execution_count": 1,
   "metadata": {},
   "outputs": [],
   "source": [
    "import sys\n",
    "sys.path.append('..')\n",
    "\n",
    "from lib.translate import DeTransalator\n",
    "from lib.utils import load_config"
   ]
  },
  {
   "cell_type": "code",
   "execution_count": 2,
   "metadata": {
    "pycharm": {
     "name": "#%%\n"
    }
   },
   "outputs": [],
   "source": [
    "CONFIG_FILE = '../config/model_config.yaml'\n",
    "SRC_VOCAB_FILE = '../de_vocab/vocab.txt'\n",
    "TGT_VOCAB_FILE = '../en_vocab/vocab.txt'\n",
    "MODEL_WEIGHTS_FILE = '../model_1.pt'\n",
    "\n",
    "MAX_LEN = 50\n",
    "DEVICE = 'cpu'\n",
    "\n",
    "model_config = load_config(CONFIG_FILE)\n",
    "model_config['device'] = DEVICE\n",
    "translator = DeTransalator(model_config, DEVICE, MAX_LEN, SRC_VOCAB_FILE, TGT_VOCAB_FILE, MODEL_WEIGHTS_FILE)"
   ]
  },
  {
   "cell_type": "code",
   "execution_count": 3,
   "metadata": {},
   "outputs": [
    {
     "name": "stdout",
     "output_type": "stream",
     "text": [
      "CPU times: user 944 ms, sys: 55.4 ms, total: 999 ms\n",
      "Wall time: 553 ms\n"
     ]
    },
    {
     "data": {
      "text/plain": [
       "'on a man wearing sunglasses is riding her wrist.....................'"
      ]
     },
     "execution_count": 3,
     "metadata": {},
     "output_type": "execute_result"
    }
   ],
   "source": [
    "sentence = 'Ein Mann mit Sonnenbrille fährt auf einem Roller.'\n",
    "%time translation, attentions =  translator.predict(sentence)\n",
    "translation"
   ]
  },
  {
   "cell_type": "code",
   "execution_count": 4,
   "metadata": {},
   "outputs": [
    {
     "name": "stdout",
     "output_type": "stream",
     "text": [
      "CPU times: user 910 ms, sys: 46.5 ms, total: 957 ms\n",
      "Wall time: 496 ms\n"
     ]
    },
    {
     "data": {
      "text/plain": [
       "\"to in red barricadei, styl their bests in the shave's back to the ink......s in a ambulance.ssssssssss 2 news.\""
      ]
     },
     "execution_count": 4,
     "metadata": {},
     "output_type": "execute_result"
    }
   ],
   "source": [
    "sentence = 'Die Erde rotiert prograd in Richtung Osten einmal um ihre Achse relativ zu den Fixsternen in 23 Stunden'\n",
    "sentence = sentence.lower()\n",
    "%time translation, attentions =  translator.predict(sentence)\n",
    "translation"
   ]
  },
  {
   "cell_type": "code",
   "execution_count": null,
   "metadata": {},
   "outputs": [],
   "source": []
  }
 ],
 "metadata": {
  "kernelspec": {
   "display_name": "Python 3",
   "language": "python",
   "name": "python3"
  },
  "language_info": {
   "codemirror_mode": {
    "name": "ipython",
    "version": 3
   },
   "file_extension": ".py",
   "mimetype": "text/x-python",
   "name": "python",
   "nbconvert_exporter": "python",
   "pygments_lexer": "ipython3",
   "version": "3.8.5"
  }
 },
 "nbformat": 4,
 "nbformat_minor": 1
}
