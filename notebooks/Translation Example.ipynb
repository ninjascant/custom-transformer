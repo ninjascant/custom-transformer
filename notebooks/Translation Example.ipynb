{
 "cells": [
  {
   "cell_type": "code",
   "execution_count": 1,
   "metadata": {},
   "outputs": [],
   "source": [
    "import sys\n",
    "sys.path.append('..')\n",
    "\n",
    "from lib.translate import DeTransalator\n",
    "from lib.utils import load_config"
   ]
  },
  {
   "cell_type": "code",
   "execution_count": 5,
   "metadata": {
    "pycharm": {
     "name": "#%%\n"
    }
   },
   "outputs": [],
   "source": [
    "CONFIG_FILE = '../config/model_config.yaml'\n",
    "SRC_VOCAB_FILE = '../de_vocab/vocab.txt'\n",
    "TGT_VOCAB_FILE = '../en_vocab/vocab.txt'\n",
    "MODEL_WEIGHTS_FILE = '../model.pt'\n",
    "\n",
    "MAX_LEN = 50\n",
    "DEVICE = 'cpu'\n",
    "\n",
    "model_config = load_config(CONFIG_FILE)\n",
    "model_config['device'] = DEVICE\n",
    "translator = DeTransalator(model_config, DEVICE, MAX_LEN, SRC_VOCAB_FILE, TGT_VOCAB_FILE, MODEL_WEIGHTS_FILE)"
   ]
  },
  {
   "cell_type": "code",
   "execution_count": 6,
   "metadata": {},
   "outputs": [
    {
     "name": "stdout",
     "output_type": "stream",
     "text": [
      "CPU times: user 895 ms, sys: 42.4 ms, total: 938 ms\n",
      "Wall time: 482 ms\n"
     ]
    },
    {
     "data": {
      "text/plain": [
       "'. on a scooter riding a scooter on a rainy track...................'"
      ]
     },
     "execution_count": 6,
     "metadata": {},
     "output_type": "execute_result"
    }
   ],
   "source": [
    "sentence = 'Ein Mann mit Sonnenbrille fährt auf einem Roller.'\n",
    "%time translation, attentions =  translator.predict(sentence)\n",
    "translation"
   ]
  },
  {
   "cell_type": "code",
   "execution_count": 7,
   "metadata": {},
   "outputs": [
    {
     "name": "stdout",
     "output_type": "stream",
     "text": [
      "CPU times: user 882 ms, sys: 44.1 ms, total: 926 ms\n",
      "Wall time: 479 ms\n"
     ]
    },
    {
     "data": {
      "text/plain": [
       "\"##s in red towards 22's court court court court court court court court runner in u..........\""
      ]
     },
     "execution_count": 7,
     "metadata": {},
     "output_type": "execute_result"
    }
   ],
   "source": [
    "sentence = 'Die Erde rotiert prograd in Richtung Osten einmal um ihre Achse relativ zu den Fixsternen in 23 Stunden'\n",
    "sentence = sentence.lower()\n",
    "%time translation, attentions =  translator.predict(sentence)\n",
    "translation"
   ]
  },
  {
   "cell_type": "code",
   "execution_count": null,
   "metadata": {},
   "outputs": [],
   "source": []
  }
 ],
 "metadata": {
  "kernelspec": {
   "display_name": "Python 3",
   "language": "python",
   "name": "python3"
  },
  "language_info": {
   "codemirror_mode": {
    "name": "ipython",
    "version": 3
   },
   "file_extension": ".py",
   "mimetype": "text/x-python",
   "name": "python",
   "nbconvert_exporter": "python",
   "pygments_lexer": "ipython3",
   "version": "3.8.5"
  }
 },
 "nbformat": 4,
 "nbformat_minor": 1
}
